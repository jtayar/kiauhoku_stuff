{
 "cells": [
  {
   "cell_type": "code",
   "execution_count": 1,
   "id": "ac9108ec",
   "metadata": {},
   "outputs": [],
   "source": [
    "#https://github.com/zclaytor/kiauhoku/blob/master/notebooks/mcmc_offsets.ipynb\n",
    "import numpy as np\n",
    "import matplotlib.pyplot as plt\n",
    "import kiauhoku as kh\n",
    "import pandas as pd"
   ]
  },
  {
   "cell_type": "code",
   "execution_count": 4,
   "id": "be6b5921",
   "metadata": {},
   "outputs": [],
   "source": [
    "#installing astropy created a numpy conflict that broke the whole kiauhoku2 environment. fuck. \n",
    "#trying in kiauhoku2b which cant find emcee for some reason\n",
    "#pip uninstall numpypip uninstall numpy\\\n",
    "\n",
    "#scipy-1.7.3 (defaults/linux-64)\n",
    "#+numpy-1.20.3 (defaults/linux-64)\n",
    "#\n",
    "# fixed kiauhoku2\n",
    "#conda install -c conda-forge scipy=1.7.3 --no-deps\n",
    "#pip install numpy==1.20.3 \n"
   ]
  },
  {
   "cell_type": "code",
   "execution_count": 2,
   "id": "dec252f9",
   "metadata": {},
   "outputs": [],
   "source": [
    "#pip install kiauhoku"
   ]
  },
  {
   "cell_type": "code",
   "execution_count": null,
   "id": "40eedd1d",
   "metadata": {},
   "outputs": [],
   "source": [
    "# steal from https://github.com/zclaytor/kiauhoku/blob/main/notebooks/model_offsets.ipynb"
   ]
  },
  {
   "cell_type": "code",
   "execution_count": 2,
   "id": "99ab1000",
   "metadata": {
    "scrolled": true
   },
   "outputs": [],
   "source": [
    "rocrit = kh.load_interpolator('rocrit')"
   ]
  },
  {
   "cell_type": "code",
   "execution_count": 3,
   "id": "7751fbfa",
   "metadata": {},
   "outputs": [],
   "source": [
    "# use grid points between ZAMS (201) and RGBump (605)\n",
    "qstring = '0.6 <= initial_mass <= 2.1 and -1.0 <= initial_met <= 0.5 and 201 <= eep <= 605'\n",
    "\n",
    "# Whether to fit evolved metallicity (True) or use the initial metallicity.\n",
    "# False is probably fine if you're not on the giant branch.\n",
    "evolve_met = False\n",
    "\n",
    "# load grid, remove unwanted rows\n",
    "rocrit = kh.load_eep_grid(\"rocrit\").query(qstring)\n",
    "# set column names to some standard\n",
    "rocrit['mass'] = rocrit['Mass(Msun)']\n",
    "rocrit['teff'] = 10**rocrit['Log Teff(K)']\n",
    "rocrit['lum'] = rocrit['L/Lsun'] #10**\n",
    "if evolve_met:\n",
    "    rocrit['met'] = np.log10(rocrit['Zsurf']/rocrit['Xsurf']/0.0253)\n",
    "else:\n",
    "    rocrit['met'] = rocrit.index.get_level_values('initial_met')\n",
    "rocrit['age'] = rocrit['Age(Gyr)']\n",
    "# set name for readability of output\n",
    "rocrit.set_name('rocrit')\n",
    "# cast to interpolator\n",
    "rocrit =rocrit.to_interpolator()\n"
   ]
  },
  {
   "cell_type": "code",
   "execution_count": 4,
   "id": "7b920937",
   "metadata": {},
   "outputs": [],
   "source": [
    "def fit_all_grids(star, *args, **kwargs):\n",
    "    gridnames = []\n",
    "    models = []\n",
    "    for gname, interp in zip(\n",
    "        ['rocrit'],\n",
    "        [rocrit]):\n",
    "        model, fit = interp.gridsearch_fit(star, *args, **kwargs)\n",
    "        if fit.success:\n",
    "            gridnames.append(gname)\n",
    "            models.append(\n",
    "                model[['initial_mass', 'initial_met', 'eep', 'mass', 'teff', 'lum', 'met', 'logg', 'Prot(days)','age']]\n",
    "            )\n",
    "    models = pd.concat(models, axis=1)\n",
    "    models.columns = gridnames\n",
    "\n",
    "    return models\n",
    "\n",
    "def compute_statistics(models, exclude=None):\n",
    "    stats = models.copy()\n",
    "    if exclude is not None:\n",
    "        stats = stats.drop(columns=exclude)\n",
    "\n",
    "    mean = stats.mean(axis=1)\n",
    "    stdev = stats.std(axis=1, ddof=1)\n",
    "    max_offset = stats.max(axis=1) - stats.min(axis=1)\n",
    "\n",
    "    stats['mean'] = mean\n",
    "    stats['stdev'] = stdev\n",
    "    stats['max offset'] = max_offset\n",
    "\n",
    "    return stats"
   ]
  },
  {
   "cell_type": "code",
   "execution_count": 5,
   "id": "841653a2",
   "metadata": {},
   "outputs": [
    {
     "name": "stdout",
     "output_type": "stream",
     "text": [
      "Fitting star with rocrit...\n",
      "rocrit: success!\n"
     ]
    },
    {
     "data": {
      "text/html": [
       "<div>\n",
       "<style scoped>\n",
       "    .dataframe tbody tr th:only-of-type {\n",
       "        vertical-align: middle;\n",
       "    }\n",
       "\n",
       "    .dataframe tbody tr th {\n",
       "        vertical-align: top;\n",
       "    }\n",
       "\n",
       "    .dataframe thead th {\n",
       "        text-align: right;\n",
       "    }\n",
       "</style>\n",
       "<table border=\"1\" class=\"dataframe\">\n",
       "  <thead>\n",
       "    <tr style=\"text-align: right;\">\n",
       "      <th></th>\n",
       "      <th>rocrit</th>\n",
       "    </tr>\n",
       "  </thead>\n",
       "  <tbody>\n",
       "    <tr>\n",
       "      <th>initial_mass</th>\n",
       "      <td>1.000000e+00</td>\n",
       "    </tr>\n",
       "    <tr>\n",
       "      <th>initial_met</th>\n",
       "      <td>-3.193749e-08</td>\n",
       "    </tr>\n",
       "    <tr>\n",
       "      <th>eep</th>\n",
       "      <td>3.316768e+02</td>\n",
       "    </tr>\n",
       "    <tr>\n",
       "      <th>mass</th>\n",
       "      <td>1.000000e+00</td>\n",
       "    </tr>\n",
       "    <tr>\n",
       "      <th>teff</th>\n",
       "      <td>5.815810e+03</td>\n",
       "    </tr>\n",
       "    <tr>\n",
       "      <th>lum</th>\n",
       "      <td>1.056234e+00</td>\n",
       "    </tr>\n",
       "    <tr>\n",
       "      <th>met</th>\n",
       "      <td>-3.193749e-08</td>\n",
       "    </tr>\n",
       "    <tr>\n",
       "      <th>logg</th>\n",
       "      <td>4.425904e+00</td>\n",
       "    </tr>\n",
       "    <tr>\n",
       "      <th>Prot(days)</th>\n",
       "      <td>2.519027e+01</td>\n",
       "    </tr>\n",
       "    <tr>\n",
       "      <th>age</th>\n",
       "      <td>4.569999e+00</td>\n",
       "    </tr>\n",
       "  </tbody>\n",
       "</table>\n",
       "</div>"
      ],
      "text/plain": [
       "                    rocrit\n",
       "initial_mass  1.000000e+00\n",
       "initial_met  -3.193749e-08\n",
       "eep           3.316768e+02\n",
       "mass          1.000000e+00\n",
       "teff          5.815810e+03\n",
       "lum           1.056234e+00\n",
       "met          -3.193749e-08\n",
       "logg          4.425904e+00\n",
       "Prot(days)    2.519027e+01\n",
       "age           4.569999e+00"
      ]
     },
     "execution_count": 5,
     "metadata": {},
     "output_type": "execute_result"
    }
   ],
   "source": [
    "sun3 = {'age': 4.57, 'mass':1, 'met':0}\n",
    "models = fit_all_grids(sun3, scale=(1, 0.1, 0.1), tol=1e-6)\n",
    "models"
   ]
  },
  {
   "cell_type": "code",
   "execution_count": null,
   "id": "d9ce04c5",
   "metadata": {},
   "outputs": [],
   "source": [
    "\n",
    "stats = compute_statistics(models, exclude=None)\n",
    "stats"
   ]
  },
  {
   "cell_type": "code",
   "execution_count": null,
   "id": "11870b3a",
   "metadata": {},
   "outputs": [],
   "source": [
    "sun4 = {'logg': 4.438, 'mass':1, 'met':0}\n",
    "models = fit_all_grids(sun4, scale=(.1, 0.1, 0.1), tol=1e-6)\n",
    "models"
   ]
  },
  {
   "cell_type": "code",
   "execution_count": null,
   "id": "7127a5fd",
   "metadata": {},
   "outputs": [],
   "source": [
    "print(models.loc[\"Prot(days)\"],models.loc[\"age\"] )\n"
   ]
  },
  {
   "cell_type": "code",
   "execution_count": null,
   "id": "5709cac8",
   "metadata": {},
   "outputs": [],
   "source": [
    "#okay given that i can do this fit for one star, can i read in the whole scvz sample and do that"
   ]
  },
  {
   "cell_type": "code",
   "execution_count": null,
   "id": "3c018d80",
   "metadata": {},
   "outputs": [],
   "source": [
    "df = pd.read_table(\"/home/jtayar/Documents/TESS/SCVZglobalSeisMay2024bMassesEdit.txt\", sep=r\"[ ]{2,}\", on_bad_lines='warn')"
   ]
  },
  {
   "cell_type": "code",
   "execution_count": null,
   "id": "011a2f43",
   "metadata": {},
   "outputs": [],
   "source": [
    "df.seismicM"
   ]
  },
  {
   "cell_type": "code",
   "execution_count": null,
   "id": "11f01add",
   "metadata": {},
   "outputs": [],
   "source": [
    "good=np.where((df.seismicM>0) )\n",
    "print(df.seismicM[good])"
   ]
  },
  {
   "cell_type": "code",
   "execution_count": null,
   "id": "a376bd50",
   "metadata": {},
   "outputs": [],
   "source": [
    "#from AIPheGI6.ipynb\n"
   ]
  },
  {
   "cell_type": "code",
   "execution_count": null,
   "id": "72b8e9b7",
   "metadata": {},
   "outputs": [],
   "source": [
    "#def yrec_iso(ages, metals):\n",
    "#    masses=np.linspace(0.9,1.25,500) #[.9, .95, 1.0, 1.05, 1.1, 1.15, 1.20, 1.25]\n",
    "#    gridnames = []\n",
    "#    models = []\n",
    "#    for i in range(len(masses)):\n",
    "#        star={'age':ages, 'met':metals, 'mass':masses[i] }\n",
    "#        model1=fit_yrec(star,scale=(0.1, 0.1, 0.1), tol=1e-6)\n",
    "#        models.append(model1)\n",
    "#        #models.columns = gridnames\n",
    "#    models = pd.concat(models, axis=1)\n",
    "#    models.columns = masses\n",
    "#    return models"
   ]
  },
  {
   "cell_type": "markdown",
   "id": "85e1660b",
   "metadata": {},
   "source": [
    "I think the quality 1 stars may be being fit as if they are seismic, when really we should fit them photometrically. fix!"
   ]
  },
  {
   "cell_type": "code",
   "execution_count": null,
   "id": "1275674e",
   "metadata": {},
   "outputs": [],
   "source": [
    "#set this up so that if it has a seismic mass, it fits M/seisLogg/feh\n",
    "# and if it doesn't have a seismic mass, fit lum/teff/feh\n",
    "# also use the salaris 1993 corrected metallicity\n",
    "models = []\n",
    "for i in range(len(df.seismicM)):\n",
    "    if df.alfe[i] > -100:\n",
    "        salcorr=df.fehgood[i]+df.alfe[i]*0.638\n",
    "    if df.alfe[i] < -100: #becuase someone decided to store the nothing values as -9999\n",
    "        salcorr=df.fehgood[i]\n",
    "    star={'logg': df.seismiclogg[i], 'mass':df.seismicM[i], 'met':salcorr}\n",
    "    if df.seismicM[i]> 2.0:\n",
    "         star={'logg': df.seismiclogg[i], 'mass':1.99, 'met':salcorr}\n",
    "    print(star)\n",
    "    if df.seismicM[i] < 0: \n",
    "        print('no')\n",
    "        star={'teff': df.teffphot[i], 'lum':df.Lphot[i], 'met':salcorr}\n",
    "        model1=fit_all_grids(star, scale=(1000, 1.0, 0.1), tol=1e-6)\n",
    "        models.append(model1)\n",
    "    if df.seismicM[i] > 0:\n",
    "        model1=fit_all_grids(star, scale=(.1, 0.1, 0.1), tol=1e-6)\n",
    "        models.append(model1)\n",
    "    \n",
    "print(models)"
   ]
  },
  {
   "cell_type": "code",
   "execution_count": null,
   "id": "6229ab36",
   "metadata": {},
   "outputs": [],
   "source": [
    "star1=np.array(models[0])\n",
    "print(star1[0])\n"
   ]
  },
  {
   "cell_type": "code",
   "execution_count": null,
   "id": "9e635d14",
   "metadata": {},
   "outputs": [],
   "source": [
    "fitstars=np.array(models)\n",
    "massesfit=fitstars[:,3].reshape(-1)\n",
    "agesfit=fitstars[:,9].reshape(-1)\n",
    "rotfit=fitstars[:,8].reshape(-1)\n",
    "\n",
    "print( np.array((np.squeeze(fitstars))).T)\n"
   ]
  },
  {
   "cell_type": "code",
   "execution_count": null,
   "id": "29a91591",
   "metadata": {},
   "outputs": [],
   "source": [
    "df['massfit'] = massesfit.tolist()\n",
    "df"
   ]
  },
  {
   "cell_type": "code",
   "execution_count": null,
   "id": "fa240eb4",
   "metadata": {},
   "outputs": [],
   "source": [
    "df['Protfit'] = rotfit.tolist()\n",
    "df['agefit'] = agesfit.tolist()"
   ]
  },
  {
   "cell_type": "code",
   "execution_count": null,
   "id": "89845705",
   "metadata": {},
   "outputs": [],
   "source": [
    "df"
   ]
  },
  {
   "cell_type": "code",
   "execution_count": null,
   "id": "d67046a9",
   "metadata": {},
   "outputs": [],
   "source": [
    "tefffit=fitstars[:,4].reshape(-1)\n",
    "df['tefffit'] = tefffit.tolist()\n",
    "lumfit=fitstars[:,5].reshape(-1)\n",
    "df['lumfit'] = lumfit.tolist()\n",
    "fehfit=fitstars[:,6].reshape(-1)\n",
    "df['fehfit'] = fehfit.tolist()"
   ]
  },
  {
   "cell_type": "code",
   "execution_count": null,
   "id": "ae1e7bd3",
   "metadata": {},
   "outputs": [],
   "source": [
    "plt.scatter(df.teffphot, np.log10(df.Lphot), c=df.agefit, vmin=0, vmax=12,s=40)\n",
    "plt.xlabel('Teff (Phot)')\n",
    "plt.ylabel('Log (Luminosity/Lsun) (Phot)')\n",
    "plt.colorbar(label='Age Fit')\n",
    "#plt.text(14, 1.5, 'M4- APOGEE')\n",
    "plt.xlim(7000,4000)\n",
    "plt.ylim(-0.5, 1.7)"
   ]
  },
  {
   "cell_type": "code",
   "execution_count": null,
   "id": "80762b3c",
   "metadata": {},
   "outputs": [],
   "source": [
    "#save to file\n",
    "df.to_csv('TESSsubgiantsKHfit_insertdate.csv')\n"
   ]
  },
  {
   "cell_type": "code",
   "execution_count": null,
   "id": "75bb143a",
   "metadata": {},
   "outputs": [],
   "source": [
    "good=df.where((abs(df.teffphot-df.tefffit)<10) #& ((df.Lphot-df.lumfit)<0.1)) \n",
    "              |(abs(df.seismicM-df.massfit)<0.1))\n",
    "(good).teffphot"
   ]
  },
  {
   "cell_type": "code",
   "execution_count": null,
   "id": "485370ef",
   "metadata": {},
   "outputs": [],
   "source": [
    "good2=df.where(((df.teffphot-df.tefffit)<10) & (df.seismicM == -9999)) # |((df.seismicM-df.massfit)<0.1))"
   ]
  },
  {
   "cell_type": "code",
   "execution_count": null,
   "id": "08a7c740",
   "metadata": {},
   "outputs": [],
   "source": [
    "good2"
   ]
  },
  {
   "cell_type": "code",
   "execution_count": null,
   "id": "d17112e4",
   "metadata": {},
   "outputs": [],
   "source": [
    "df.teffphot-df.tefffit"
   ]
  },
  {
   "cell_type": "code",
   "execution_count": null,
   "id": "66c61dd4",
   "metadata": {},
   "outputs": [],
   "source": [
    "df.seismicM-df.massfit"
   ]
  },
  {
   "cell_type": "code",
   "execution_count": null,
   "id": "c9cd3b84",
   "metadata": {},
   "outputs": [],
   "source": [
    "plt.scatter(good.teffphot, np.log10(good.Lphot), c=good.agefit, vmin=0, vmax=12,s=40)\n",
    "plt.xlabel('Teff (Phot)')\n",
    "plt.ylabel('Log (Luminosity/Lsun) (Phot)')\n",
    "plt.colorbar(label='Age Fit')\n",
    "#plt.text(14, 1.5, 'M4- APOGEE')\n",
    "plt.xlim(7000,4000)\n",
    "plt.ylim(-0.5, 1.7)"
   ]
  },
  {
   "cell_type": "code",
   "execution_count": null,
   "id": "e72af525",
   "metadata": {},
   "outputs": [],
   "source": [
    "plt.scatter(good.teffphot, np.log10(good.Lphot), c=good.Protfit, vmin=0, vmax=200,s=40)\n",
    "plt.xlabel('Teff (Phot)')\n",
    "plt.ylabel('Log (Luminosity/Lsun) (Phot)')\n",
    "plt.colorbar(label='Prot Fit')\n",
    "#plt.text(14, 1.5, 'M4- APOGEE')\n",
    "plt.xlim(7000,4000)\n",
    "plt.ylim(-0.5, 1.7)"
   ]
  },
  {
   "cell_type": "code",
   "execution_count": null,
   "id": "bf3543cf",
   "metadata": {},
   "outputs": [],
   "source": [
    "plt.scatter(good.teffphot, np.log10(good.Lphot), c=good.Psurf, vmin=0, vmax=100,s=40)\n",
    "plt.xlabel('Teff (Phot)')\n",
    "plt.ylabel('Log (Luminosity/Lsun) (Phot)')\n",
    "plt.colorbar(label='Prot Obs')\n",
    "#plt.text(14, 1.5, 'M4- APOGEE')\n",
    "plt.xlim(7000,4000)\n",
    "plt.ylim(-0.5, 1.7)"
   ]
  },
  {
   "cell_type": "code",
   "execution_count": null,
   "id": "5e5f90e3",
   "metadata": {},
   "outputs": [],
   "source": [
    "#prove that we are only selecting stars with either a good seismic fit or a good teff fit\n",
    "plt.scatter(good.teffphot-good.tefffit, good.seismicM-good.massfit, c=good.agefit, vmin=0, vmax=12,s=40)\n",
    "plt.xlabel('Teff offset')\n",
    "plt.ylabel('mass offset')\n",
    "#plt.ylim(-1,1)\n",
    "plt.colorbar(label='Age Fit')"
   ]
  },
  {
   "cell_type": "code",
   "execution_count": null,
   "id": "df6f5ba0",
   "metadata": {},
   "outputs": [],
   "source": [
    "plt.scatter(good.Psurf, (good.Protfit), c=good.massfit, vmin=0.6, vmax=2,s=40)\n",
    "plt.xlabel('Psurf (obs)')\n",
    "plt.ylabel('Psurf (theory)')\n",
    "plt.colorbar(label='Mass Fit')\n",
    "plt.text(10, 175, 'faster than single star')\n",
    "plt.text(175, 10, 'weird')\n",
    "plt.plot([0,1000],[0,1000])\n",
    "plt.xlim(0, 200)\n",
    "plt.ylim(0,200)"
   ]
  },
  {
   "cell_type": "code",
   "execution_count": null,
   "id": "0ca41e13",
   "metadata": {},
   "outputs": [],
   "source": [
    "#pip install astropy\n",
    "#no bad killed everything no"
   ]
  },
  {
   "cell_type": "code",
   "execution_count": 8,
   "id": "07566730",
   "metadata": {},
   "outputs": [],
   "source": [
    "#switch to fits tables because i really don't undestand dataframes\n",
    "#this was a total trap that broke my entire kiauhoku environment. bad hate no.\n",
    "\n",
    "#from astropy.table import Table\n",
    "#scvz=Table.read('TESSsubgiantsKHfit_2024June20.csv')"
   ]
  },
  {
   "cell_type": "code",
   "execution_count": 6,
   "id": "8e7494af",
   "metadata": {},
   "outputs": [
    {
     "data": {
      "text/html": [
       "<div>\n",
       "<style scoped>\n",
       "    .dataframe tbody tr th:only-of-type {\n",
       "        vertical-align: middle;\n",
       "    }\n",
       "\n",
       "    .dataframe tbody tr th {\n",
       "        vertical-align: top;\n",
       "    }\n",
       "\n",
       "    .dataframe thead th {\n",
       "        text-align: right;\n",
       "    }\n",
       "</style>\n",
       "<table border=\"1\" class=\"dataframe\">\n",
       "  <thead>\n",
       "    <tr style=\"text-align: right;\">\n",
       "      <th></th>\n",
       "      <th>num</th>\n",
       "      <th>tic</th>\n",
       "      <th>numaxav</th>\n",
       "      <th>numaxerr</th>\n",
       "      <th>dnuav</th>\n",
       "      <th>dnuerr</th>\n",
       "      <th>teffphot</th>\n",
       "      <th>fehgood</th>\n",
       "      <th>speclogg</th>\n",
       "      <th>seismiclogg</th>\n",
       "      <th>...</th>\n",
       "      <th>nfe</th>\n",
       "      <th>alfe</th>\n",
       "      <th>binary</th>\n",
       "      <th>life</th>\n",
       "      <th>massfit</th>\n",
       "      <th>Protfit</th>\n",
       "      <th>agefit</th>\n",
       "      <th>tefffit</th>\n",
       "      <th>lumfit</th>\n",
       "      <th>fehfit</th>\n",
       "    </tr>\n",
       "  </thead>\n",
       "  <tbody>\n",
       "    <tr>\n",
       "      <th>0</th>\n",
       "      <td>0</td>\n",
       "      <td>25117756</td>\n",
       "      <td>791.0410</td>\n",
       "      <td>79.104100</td>\n",
       "      <td>28.9337</td>\n",
       "      <td>2.893370</td>\n",
       "      <td>5151.0</td>\n",
       "      <td>0.104838</td>\n",
       "      <td>3.83286</td>\n",
       "      <td>-9999.00000</td>\n",
       "      <td>...</td>\n",
       "      <td>0.139310</td>\n",
       "      <td>-0.031537</td>\n",
       "      <td>0</td>\n",
       "      <td>-9999.0</td>\n",
       "      <td>1.349704</td>\n",
       "      <td>62.374631</td>\n",
       "      <td>3.765257</td>\n",
       "      <td>5150.999917</td>\n",
       "      <td>4.559999</td>\n",
       "      <td>0.084717</td>\n",
       "    </tr>\n",
       "    <tr>\n",
       "      <th>1</th>\n",
       "      <td>1</td>\n",
       "      <td>25156036</td>\n",
       "      <td>207.4330</td>\n",
       "      <td>0.510699</td>\n",
       "      <td>15.9212</td>\n",
       "      <td>0.151192</td>\n",
       "      <td>4652.0</td>\n",
       "      <td>0.219418</td>\n",
       "      <td>3.20518</td>\n",
       "      <td>3.21411</td>\n",
       "      <td>...</td>\n",
       "      <td>0.219820</td>\n",
       "      <td>0.005225</td>\n",
       "      <td>0</td>\n",
       "      <td>-9999.0</td>\n",
       "      <td>1.042030</td>\n",
       "      <td>763.575587</td>\n",
       "      <td>11.033657</td>\n",
       "      <td>4681.788755</td>\n",
       "      <td>7.582136</td>\n",
       "      <td>0.222752</td>\n",
       "    </tr>\n",
       "    <tr>\n",
       "      <th>2</th>\n",
       "      <td>2</td>\n",
       "      <td>30265037</td>\n",
       "      <td>582.2240</td>\n",
       "      <td>58.222400</td>\n",
       "      <td>43.7676</td>\n",
       "      <td>4.376760</td>\n",
       "      <td>4959.0</td>\n",
       "      <td>0.104498</td>\n",
       "      <td>3.66515</td>\n",
       "      <td>-9999.00000</td>\n",
       "      <td>...</td>\n",
       "      <td>0.168197</td>\n",
       "      <td>-0.015207</td>\n",
       "      <td>0</td>\n",
       "      <td>-9999.0</td>\n",
       "      <td>1.245031</td>\n",
       "      <td>142.671736</td>\n",
       "      <td>5.160992</td>\n",
       "      <td>4958.999545</td>\n",
       "      <td>4.349998</td>\n",
       "      <td>0.094796</td>\n",
       "    </tr>\n",
       "    <tr>\n",
       "      <th>3</th>\n",
       "      <td>3</td>\n",
       "      <td>30533103</td>\n",
       "      <td>-9999.0000</td>\n",
       "      <td>-9999.000000</td>\n",
       "      <td>-9999.0000</td>\n",
       "      <td>-9999.000000</td>\n",
       "      <td>5003.0</td>\n",
       "      <td>0.160478</td>\n",
       "      <td>3.56297</td>\n",
       "      <td>-9999.00000</td>\n",
       "      <td>...</td>\n",
       "      <td>0.207850</td>\n",
       "      <td>-0.035024</td>\n",
       "      <td>0</td>\n",
       "      <td>-9999.0</td>\n",
       "      <td>1.507908</td>\n",
       "      <td>66.939636</td>\n",
       "      <td>2.622257</td>\n",
       "      <td>5003.000469</td>\n",
       "      <td>6.560000</td>\n",
       "      <td>0.138133</td>\n",
       "    </tr>\n",
       "    <tr>\n",
       "      <th>4</th>\n",
       "      <td>4</td>\n",
       "      <td>31506424</td>\n",
       "      <td>408.7510</td>\n",
       "      <td>3.325110</td>\n",
       "      <td>28.7076</td>\n",
       "      <td>0.023238</td>\n",
       "      <td>5217.0</td>\n",
       "      <td>-0.549412</td>\n",
       "      <td>3.47928</td>\n",
       "      <td>3.53358</td>\n",
       "      <td>...</td>\n",
       "      <td>-0.126300</td>\n",
       "      <td>0.067149</td>\n",
       "      <td>0</td>\n",
       "      <td>-9999.0</td>\n",
       "      <td>1.013381</td>\n",
       "      <td>152.827985</td>\n",
       "      <td>7.405162</td>\n",
       "      <td>5174.622669</td>\n",
       "      <td>5.239984</td>\n",
       "      <td>-0.506571</td>\n",
       "    </tr>\n",
       "    <tr>\n",
       "      <th>...</th>\n",
       "      <td>...</td>\n",
       "      <td>...</td>\n",
       "      <td>...</td>\n",
       "      <td>...</td>\n",
       "      <td>...</td>\n",
       "      <td>...</td>\n",
       "      <td>...</td>\n",
       "      <td>...</td>\n",
       "      <td>...</td>\n",
       "      <td>...</td>\n",
       "      <td>...</td>\n",
       "      <td>...</td>\n",
       "      <td>...</td>\n",
       "      <td>...</td>\n",
       "      <td>...</td>\n",
       "      <td>...</td>\n",
       "      <td>...</td>\n",
       "      <td>...</td>\n",
       "      <td>...</td>\n",
       "      <td>...</td>\n",
       "      <td>...</td>\n",
       "    </tr>\n",
       "    <tr>\n",
       "      <th>115</th>\n",
       "      <td>115</td>\n",
       "      <td>381976956</td>\n",
       "      <td>78.6713</td>\n",
       "      <td>0.299835</td>\n",
       "      <td>7.7018</td>\n",
       "      <td>0.140665</td>\n",
       "      <td>5022.0</td>\n",
       "      <td>-0.577122</td>\n",
       "      <td>2.86228</td>\n",
       "      <td>-9999.00000</td>\n",
       "      <td>...</td>\n",
       "      <td>0.118560</td>\n",
       "      <td>0.048593</td>\n",
       "      <td>0</td>\n",
       "      <td>-9999.0</td>\n",
       "      <td>1.292561</td>\n",
       "      <td>227.311005</td>\n",
       "      <td>3.204361</td>\n",
       "      <td>5021.999772</td>\n",
       "      <td>26.400000</td>\n",
       "      <td>-0.546119</td>\n",
       "    </tr>\n",
       "    <tr>\n",
       "      <th>116</th>\n",
       "      <td>116</td>\n",
       "      <td>382067256</td>\n",
       "      <td>274.2390</td>\n",
       "      <td>1.216670</td>\n",
       "      <td>19.2708</td>\n",
       "      <td>0.110203</td>\n",
       "      <td>4842.0</td>\n",
       "      <td>0.090000</td>\n",
       "      <td>3.37500</td>\n",
       "      <td>3.34405</td>\n",
       "      <td>...</td>\n",
       "      <td>-9999.000000</td>\n",
       "      <td>-9999.000000</td>\n",
       "      <td>0</td>\n",
       "      <td>-9999.0</td>\n",
       "      <td>1.251410</td>\n",
       "      <td>288.400412</td>\n",
       "      <td>5.199685</td>\n",
       "      <td>4849.710635</td>\n",
       "      <td>7.739184</td>\n",
       "      <td>0.090001</td>\n",
       "    </tr>\n",
       "    <tr>\n",
       "      <th>117</th>\n",
       "      <td>117</td>\n",
       "      <td>382101770</td>\n",
       "      <td>-9999.0000</td>\n",
       "      <td>-9999.000000</td>\n",
       "      <td>-9999.0000</td>\n",
       "      <td>-9999.000000</td>\n",
       "      <td>5327.0</td>\n",
       "      <td>-0.344572</td>\n",
       "      <td>3.70693</td>\n",
       "      <td>-9999.00000</td>\n",
       "      <td>...</td>\n",
       "      <td>-0.164100</td>\n",
       "      <td>0.052781</td>\n",
       "      <td>0</td>\n",
       "      <td>-9999.0</td>\n",
       "      <td>1.218945</td>\n",
       "      <td>51.693957</td>\n",
       "      <td>4.314783</td>\n",
       "      <td>5326.999614</td>\n",
       "      <td>5.530000</td>\n",
       "      <td>-0.310898</td>\n",
       "    </tr>\n",
       "    <tr>\n",
       "      <th>118</th>\n",
       "      <td>118</td>\n",
       "      <td>382159212</td>\n",
       "      <td>507.7820</td>\n",
       "      <td>15.557600</td>\n",
       "      <td>34.3976</td>\n",
       "      <td>0.086691</td>\n",
       "      <td>5233.0</td>\n",
       "      <td>-0.286000</td>\n",
       "      <td>3.68400</td>\n",
       "      <td>3.62846</td>\n",
       "      <td>...</td>\n",
       "      <td>-9999.000000</td>\n",
       "      <td>-9999.000000</td>\n",
       "      <td>0</td>\n",
       "      <td>-9999.0</td>\n",
       "      <td>0.947845</td>\n",
       "      <td>217.888809</td>\n",
       "      <td>11.261552</td>\n",
       "      <td>5025.292414</td>\n",
       "      <td>3.589782</td>\n",
       "      <td>-0.286000</td>\n",
       "    </tr>\n",
       "    <tr>\n",
       "      <th>119</th>\n",
       "      <td>119</td>\n",
       "      <td>382302322</td>\n",
       "      <td>394.7240</td>\n",
       "      <td>5.297500</td>\n",
       "      <td>28.3399</td>\n",
       "      <td>0.006565</td>\n",
       "      <td>5051.0</td>\n",
       "      <td>-0.128000</td>\n",
       "      <td>3.42200</td>\n",
       "      <td>3.51139</td>\n",
       "      <td>...</td>\n",
       "      <td>-9999.000000</td>\n",
       "      <td>-9999.000000</td>\n",
       "      <td>0</td>\n",
       "      <td>-9999.0</td>\n",
       "      <td>0.907478</td>\n",
       "      <td>413.167661</td>\n",
       "      <td>14.913126</td>\n",
       "      <td>4858.215911</td>\n",
       "      <td>3.915119</td>\n",
       "      <td>-0.128000</td>\n",
       "    </tr>\n",
       "  </tbody>\n",
       "</table>\n",
       "<p>120 rows × 29 columns</p>\n",
       "</div>"
      ],
      "text/plain": [
       "     num        tic    numaxav     numaxerr      dnuav       dnuerr  teffphot  \\\n",
       "0      0   25117756   791.0410    79.104100    28.9337     2.893370    5151.0   \n",
       "1      1   25156036   207.4330     0.510699    15.9212     0.151192    4652.0   \n",
       "2      2   30265037   582.2240    58.222400    43.7676     4.376760    4959.0   \n",
       "3      3   30533103 -9999.0000 -9999.000000 -9999.0000 -9999.000000    5003.0   \n",
       "4      4   31506424   408.7510     3.325110    28.7076     0.023238    5217.0   \n",
       "..   ...        ...        ...          ...        ...          ...       ...   \n",
       "115  115  381976956    78.6713     0.299835     7.7018     0.140665    5022.0   \n",
       "116  116  382067256   274.2390     1.216670    19.2708     0.110203    4842.0   \n",
       "117  117  382101770 -9999.0000 -9999.000000 -9999.0000 -9999.000000    5327.0   \n",
       "118  118  382159212   507.7820    15.557600    34.3976     0.086691    5233.0   \n",
       "119  119  382302322   394.7240     5.297500    28.3399     0.006565    5051.0   \n",
       "\n",
       "      fehgood  speclogg  seismiclogg  ...          nfe         alfe  binary  \\\n",
       "0    0.104838   3.83286  -9999.00000  ...     0.139310    -0.031537       0   \n",
       "1    0.219418   3.20518      3.21411  ...     0.219820     0.005225       0   \n",
       "2    0.104498   3.66515  -9999.00000  ...     0.168197    -0.015207       0   \n",
       "3    0.160478   3.56297  -9999.00000  ...     0.207850    -0.035024       0   \n",
       "4   -0.549412   3.47928      3.53358  ...    -0.126300     0.067149       0   \n",
       "..        ...       ...          ...  ...          ...          ...     ...   \n",
       "115 -0.577122   2.86228  -9999.00000  ...     0.118560     0.048593       0   \n",
       "116  0.090000   3.37500      3.34405  ... -9999.000000 -9999.000000       0   \n",
       "117 -0.344572   3.70693  -9999.00000  ...    -0.164100     0.052781       0   \n",
       "118 -0.286000   3.68400      3.62846  ... -9999.000000 -9999.000000       0   \n",
       "119 -0.128000   3.42200      3.51139  ... -9999.000000 -9999.000000       0   \n",
       "\n",
       "       life   massfit     Protfit     agefit      tefffit     lumfit    fehfit  \n",
       "0   -9999.0  1.349704   62.374631   3.765257  5150.999917   4.559999  0.084717  \n",
       "1   -9999.0  1.042030  763.575587  11.033657  4681.788755   7.582136  0.222752  \n",
       "2   -9999.0  1.245031  142.671736   5.160992  4958.999545   4.349998  0.094796  \n",
       "3   -9999.0  1.507908   66.939636   2.622257  5003.000469   6.560000  0.138133  \n",
       "4   -9999.0  1.013381  152.827985   7.405162  5174.622669   5.239984 -0.506571  \n",
       "..      ...       ...         ...        ...          ...        ...       ...  \n",
       "115 -9999.0  1.292561  227.311005   3.204361  5021.999772  26.400000 -0.546119  \n",
       "116 -9999.0  1.251410  288.400412   5.199685  4849.710635   7.739184  0.090001  \n",
       "117 -9999.0  1.218945   51.693957   4.314783  5326.999614   5.530000 -0.310898  \n",
       "118 -9999.0  0.947845  217.888809  11.261552  5025.292414   3.589782 -0.286000  \n",
       "119 -9999.0  0.907478  413.167661  14.913126  4858.215911   3.915119 -0.128000  \n",
       "\n",
       "[120 rows x 29 columns]"
      ]
     },
     "execution_count": 6,
     "metadata": {},
     "output_type": "execute_result"
    }
   ],
   "source": [
    "df = pd.read_table(\"TESSsubgiantsKHfit_2024June20.csv\", sep=',')\n",
    "df"
   ]
  },
  {
   "cell_type": "code",
   "execution_count": null,
   "id": "7b303059",
   "metadata": {},
   "outputs": [],
   "source": [
    "#oodfit=np.where(  (abs(scvz['teffphot']-scvz['tefffit'])<10)| (abs(scvz['seismicM']-scvz['massfit'])<0.1) )"
   ]
  },
  {
   "cell_type": "code",
   "execution_count": 7,
   "id": "ae39d86b",
   "metadata": {},
   "outputs": [],
   "source": [
    "m10=rocrit.get_track((1,0,0))\n",
    "m12=rocrit.get_track((1.2,0,0))\n",
    "m14=rocrit.get_track((1.4,0,0))\n",
    "m16=rocrit.get_track((1.6,0,0))\n",
    "m18=rocrit.get_track((1.8,0,0))\n",
    "m20=rocrit.get_track((1.99,0,0))"
   ]
  },
  {
   "cell_type": "code",
   "execution_count": null,
   "id": "99b4c654",
   "metadata": {},
   "outputs": [],
   "source": [
    "#plt.scatter(scvz['Psurf'][goodfit], scvz['Protfit'][goodfit], c=scvz['massfit'][goodfit], vmin=0.6, vmax=2,s=40)\n",
    "#plt.xlabel('Psurf (obs)')\n",
    "#plt.ylabel('Psurf (theory)')\n",
    "#plt.colorbar(label='Mass Fit')\n",
    "#plt.text(10, 175, 'faster than single star')\n",
    "#plt.text(175, 10, 'weird')\n",
    "#plt.plot([0,1000],[0,1000])\n",
    "#plt.xlim(0, 200)\n",
    "#plt.ylim(0,200)"
   ]
  },
  {
   "cell_type": "code",
   "execution_count": 9,
   "id": "599ef87b",
   "metadata": {},
   "outputs": [],
   "source": [
    "Omcorarr=np.array(df.Omcore)\n",
    "omcoreTc=1e-9*Omcorarr*2.*3.14159\n",
    "PcoreTc=2.*3.14159/(60.*60.*24.*omcoreTc)\n",
    "bad=np.where(Omcorarr <=0)\n",
    "PcoreTc[bad]=-9999"
   ]
  },
  {
   "cell_type": "code",
   "execution_count": 11,
   "id": "925299a4",
   "metadata": {},
   "outputs": [],
   "source": [
    "from matplotlib import *"
   ]
  },
  {
   "cell_type": "code",
   "execution_count": 15,
   "id": "842e5ae5",
   "metadata": {},
   "outputs": [
    {
     "data": {
      "image/png": "[encoded data removed]",
      "text/plain": [
       "<Figure size 432x288 with 2 Axes>"
      ]
     },
     "metadata": {
      "needs_background": "light"
     },
     "output_type": "display_data"
    }
   ],
   "source": [
    "minm=1.0\n",
    "maxm=1.6\n",
    "plt.scatter( df.seismiclogg,PcoreTc, c=df.massfit, vmin=minm, vmax=maxm,s=80,\n",
    "            marker='D', edgecolors='k', cmap='viridis')\n",
    "#plt.scatter( scvz['seismiclogg'][goodfit],scvz['Protfit'][goodfit], c=scvz['massfit'][goodfit], marker='p',\n",
    "#            vmin=1.0, vmax=1.6,s=10)\n",
    "cmap=colormaps['viridis']\n",
    "color=m10['mass'][300]\n",
    "plt.plot(m10['logg'], m10['Prot(days)'], c=cmap((1.0-minm)/(maxm-minm)))\n",
    "plt.plot(m12['logg'], m12['Prot(days)'], c=cmap((1.2-minm)/(maxm-minm)))\n",
    "plt.plot(m14['logg'], m14['Prot(days)'], c=cmap((1.4-minm)/(maxm-minm)))\n",
    "plt.plot(m16['logg'], m16['Prot(days)'], c=cmap((1.6-minm)/(maxm-minm)))\n",
    "plt.ylabel('Period (days)', fontsize=15)\n",
    "plt.xlabel('log (g) (seis)', fontsize=15) \n",
    "#cbar=plt.colorbar(label='Mass M$_\\odot$')#, size=15)\n",
    "plt.colorbar().set_label(label='Mass M$_\\odot$',size=15)\n",
    "#cbar.ax.tick_params(labelsize=20)\n",
    "plt.text(3.2, 100, 'surface predictions')\n",
    "plt.text(3.4, 8, 'observed cores')\n",
    "#plt.text(175, 10, 'weird')\n",
    "#plt.plot([0,1000],[0,1000])\n",
    "plt.xlim(4, 2.75)\n",
    "plt.yscale('log')\n",
    "plt.ylim(200, 4)\n",
    "plt.tight_layout()        # auto-adjust boundaries after you have added everything\n",
    "plt.draw()                # make sure it updates (possibly unnecessary)\n",
    "plt.savefig('SamplePcorePsurftheory.jpg', bbox_inches='tight')"
   ]
  },
  {
   "cell_type": "code",
   "execution_count": 50,
   "id": "81528d52",
   "metadata": {},
   "outputs": [
    {
     "name": "stdout",
     "output_type": "stream",
     "text": [
      "(0.267004, 0.004874, 0.329415, 1.0)\n",
      "(0.26851, 0.009605, 0.335427, 1.0)\n"
     ]
    }
   ],
   "source": [
    "cmap=colormaps['viridis']\n",
    "print(cmap(0))\n",
    "print(cmap(1))"
   ]
  },
  {
   "cell_type": "code",
   "execution_count": 9,
   "id": "5cb6eade",
   "metadata": {},
   "outputs": [],
   "source": [
    "m10.to_csv('rocrit10track.csv')\n",
    "m12.to_csv('rocrit12track.csv')\n",
    "m14.to_csv('rocrit14track.csv')\n",
    "m16.to_csv('rocrit16track.csv')\n",
    "m18.to_csv('rocrit18track.csv')\n",
    "m20.to_csv('rocrit20track.csv')\n",
    "\n"
   ]
  },
  {
   "cell_type": "code",
   "execution_count": 5,
   "id": "e7671e37",
   "metadata": {},
   "outputs": [],
   "source": [
    "m20=rocrit.get_track((1.99,0,0))"
   ]
  }
 ],
 "metadata": {
  "kernelspec": {
   "display_name": "kiauhoku2",
   "language": "python",
   "name": "kiauhoku2"
  },
  "language_info": {
   "codemirror_mode": {
    "name": "ipython",
    "version": 3
   },
   "file_extension": ".py",
   "mimetype": "text/x-python",
   "name": "python",
   "nbconvert_exporter": "python",
   "pygments_lexer": "ipython3",
   "version": "3.9.7"
  }
 },
 "nbformat": 4,
 "nbformat_minor": 5
}
